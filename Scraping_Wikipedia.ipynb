{
 "cells": [
  {
   "cell_type": "markdown",
   "metadata": {},
   "source": [
    "### Scraping Wikipedia"
   ]
  },
  {
   "cell_type": "markdown",
   "metadata": {},
   "source": [
    "In this notebook, I will scrape one of the Wikipedia pages from the web. \n",
    "I will be using BeautifulSoup, requests libraries."
   ]
  },
  {
   "cell_type": "markdown",
   "metadata": {},
   "source": [
    "#### Getting Started with requests library\n",
    "Python library requests retrieves information from the web. "
   ]
  },
  {
   "cell_type": "code",
   "execution_count": 1,
   "metadata": {},
   "outputs": [],
   "source": [
    "# importing requests library\n",
    "import requests"
   ]
  },
  {
   "cell_type": "code",
   "execution_count": 2,
   "metadata": {},
   "outputs": [],
   "source": [
    "url = 'https://en.wikipedia.org/wiki/Pennsylvania'\n",
    "response = requests.get(url)"
   ]
  },
  {
   "cell_type": "code",
   "execution_count": 3,
   "metadata": {},
   "outputs": [
    {
     "data": {
      "text/plain": [
       "200"
      ]
     },
     "execution_count": 3,
     "metadata": {},
     "output_type": "execute_result"
    }
   ],
   "source": [
    "response.status_code # success"
   ]
  },
  {
   "cell_type": "code",
   "execution_count": 5,
   "metadata": {},
   "outputs": [
    {
     "name": "stdout",
     "output_type": "stream",
     "text": [
      "<!DOCTYPE html>\n",
      "<html class=\"client-nojs\" lang=\"en\" dir=\"ltr\">\n",
      "<head>\n",
      "<meta charset=\"UTF-8\"/>\n",
      "<title>Pennsylvania - Wikipedia</title>\n",
      "<script>document.documentElement.className=\"client-js\";RLCONF={\"wg\n"
     ]
    }
   ],
   "source": [
    "print(response.text[:200])"
   ]
  },
  {
   "cell_type": "code",
   "execution_count": 6,
   "metadata": {},
   "outputs": [],
   "source": [
    "page = response.text"
   ]
  },
  {
   "cell_type": "code",
   "execution_count": 7,
   "metadata": {},
   "outputs": [
    {
     "data": {
      "text/plain": [
       "str"
      ]
     },
     "execution_count": 7,
     "metadata": {},
     "output_type": "execute_result"
    }
   ],
   "source": [
    "type(page)"
   ]
  },
  {
   "cell_type": "markdown",
   "metadata": {},
   "source": [
    "#### Using requests with BeautifulSoup"
   ]
  },
  {
   "cell_type": "code",
   "execution_count": 8,
   "metadata": {},
   "outputs": [],
   "source": [
    "from bs4 import BeautifulSoup as bs"
   ]
  },
  {
   "cell_type": "code",
   "execution_count": 9,
   "metadata": {},
   "outputs": [],
   "source": [
    "soup = bs(page)"
   ]
  },
  {
   "cell_type": "code",
   "execution_count": 10,
   "metadata": {},
   "outputs": [
    {
     "data": {
      "text/plain": [
       "<h1 class=\"firstHeading\" id=\"firstHeading\" lang=\"en\">Pennsylvania</h1>"
      ]
     },
     "execution_count": 10,
     "metadata": {},
     "output_type": "execute_result"
    }
   ],
   "source": [
    "soup.find('h1')"
   ]
  },
  {
   "cell_type": "code",
   "execution_count": 11,
   "metadata": {},
   "outputs": [
    {
     "data": {
      "text/plain": [
       "'Pennsylvania'"
      ]
     },
     "execution_count": 11,
     "metadata": {},
     "output_type": "execute_result"
    }
   ],
   "source": [
    "soup.find('h1').text"
   ]
  },
  {
   "cell_type": "markdown",
   "metadata": {},
   "source": [
    "Find a disambiguation link for Pensillvania"
   ]
  },
  {
   "cell_type": "code",
   "execution_count": 13,
   "metadata": {},
   "outputs": [
    {
     "data": {
      "text/plain": [
       "<a id=\"top\"></a>"
      ]
     },
     "execution_count": 13,
     "metadata": {},
     "output_type": "execute_result"
    }
   ],
   "source": [
    "soup.find('a')"
   ]
  },
  {
   "cell_type": "code",
   "execution_count": 14,
   "metadata": {},
   "outputs": [
    {
     "ename": "SyntaxError",
     "evalue": "invalid syntax (<ipython-input-14-dc5ef192f3db>, line 1)",
     "output_type": "error",
     "traceback": [
      "\u001b[1;36m  File \u001b[1;32m\"<ipython-input-14-dc5ef192f3db>\"\u001b[1;36m, line \u001b[1;32m1\u001b[0m\n\u001b[1;33m    a_tags = [link.href for soup.find_all('a')]\u001b[0m\n\u001b[1;37m                                              ^\u001b[0m\n\u001b[1;31mSyntaxError\u001b[0m\u001b[1;31m:\u001b[0m invalid syntax\n"
     ]
    }
   ],
   "source": [
    "a_tags = [link.href for soup.find_all('a')]\n",
    "a_tags"
   ]
  },
  {
   "cell_type": "code",
   "execution_count": 23,
   "metadata": {},
   "outputs": [
    {
     "data": {
      "text/plain": [
       "'/wiki/Pennsylvania_(disambiguation)'"
      ]
     },
     "execution_count": 23,
     "metadata": {},
     "output_type": "execute_result"
    }
   ],
   "source": [
    "soup.find(class_=\"mw-disambig\")['href']"
   ]
  },
  {
   "cell_type": "code",
   "execution_count": 25,
   "metadata": {},
   "outputs": [
    {
     "data": {
      "text/plain": [
       "'41°N 77.5°W'"
      ]
     },
     "execution_count": 25,
     "metadata": {},
     "output_type": "execute_result"
    }
   ],
   "source": [
    "soup.find(class_ = 'geo-dec').text"
   ]
  },
  {
   "cell_type": "markdown",
   "metadata": {},
   "source": [
    "prettify() methods gives a nice idented structure to an HTML"
   ]
  },
  {
   "cell_type": "code",
   "execution_count": 28,
   "metadata": {},
   "outputs": [
    {
     "name": "stdout",
     "output_type": "stream",
     "text": [
      "<table class=\"infobox geography vcard\" style=\"width:22em;width:23em\">\n",
      " <tbody>\n",
      "  <tr>\n",
      "   <th colspan=\"2\" style=\"text-align:center;font-size:125%;font-weight:bold;font-size:1.25em; white-space:nowrap\">\n",
      "    <div class=\"fn org\" style=\"display:inline\">\n",
      "     Pennsylvania\n",
      "    </div>\n",
      "   </th>\n",
      "  </tr>\n",
      "  <tr>\n",
      "   <td colspan=\"2\" style=\"text-align:center;background-color:#cddeff; font-weight:bold;\">\n",
      "    <div class=\"category\">\n",
      "     <a href=\"/wiki/U.S._state\" title=\"U.S. state\">\n",
      "      State\n",
      "     </a>\n",
      "    </div>\n",
      "   </td>\n",
      "  </tr>\n",
      "  <tr class=\"mergedtoprow\">\n",
      "   <td colspan=\"2\" style=\"text-align:center;font-weight:bold;\">\n",
      "    Commonwealth of Pennsylvania\n",
      "   </td>\n",
      "  </tr>\n",
      "  <tr class=\"mergedtoprow\">\n",
      "   <td class=\"maptable\" colspan=\"2\" style=\"text-align:center\">\n",
      "    <div style=\"display:table; width:100%; background:none;\">\n",
      "     <div style=\"display:table-row\">\n",
      "      <div style=\"display:table-cell;vertical-align:middle; text-align:center;\">\n",
      "       <a class=\"image\" href=\"/wiki/File:Flag_of_Pennsylvania.svg\" title=\"Flag of Pennsylvania\">\n",
      "        <img alt=\"Flag of Pennsylvania\" class=\"thumbborder\" data-file-height=\"450\" data-file-width=\"675\" decoding=\"async\" height=\"83\" src=\"//upload.wikimedia.org/wikipedia/commons/thumb/f/f7/Flag_of_Pennsylvania.svg/125px-Flag_of_Pennsylvania.svg.png\" srcset=\"//upload.wikimedia.org/wikipedia/commons/thumb/f/f7/Flag_of_Pennsylvania.svg/188px-Flag_of_Pennsylvania.svg.png 1.5x, //upload.wikimedia.org/wikipedia/commons/thumb/f/f7/Flag_of_Pennsylvania.svg/250px-Flag_of_Pennsylvania.svg.png 2x\" width=\"125\"/>\n",
      "       </a>\n",
      "       <div style=\"padding:0.2em 0 0.2em 0;\">\n",
      "        <a class=\"mw-redirect\" href=\"/wiki/Flag_of_Pennsylvania\" title=\"Flag of Pennsylvania\">\n",
      "         Flag\n",
      "        </a>\n",
      "       </div>\n",
      "      </div>\n",
      "      <div style=\"display:table-cell;vertical-align:middle; text-align:center;\">\n",
      "       <a class=\"image\" href=\"/wiki/File:Seal_of_Pennsylvania.svg\" title=\"Official seal of Pennsylvania\">\n",
      "        <img alt=\"Official seal of Pennsylvania\" data-file-height=\"289\" data-file-width=\"289\" decoding=\"async\" height=\"100\" src=\"//upload.wikimedia.org/wikipedia/commons/thumb/7/7d/Seal_of_Pennsylvania.svg/100px-Seal_of_Pennsylvania.svg.png\" srcset=\"//upload.wikimedia.org/wikipedia/commons/thumb/7/7d/Seal_of_Pennsylvania.svg/150px-Seal_of_Pennsylvania.svg.png 1.5x, //upload.wikimedia.org/wikipedia/commons/thumb/7/7d/Seal_of_Pennsylvania.svg/200px-Seal_of_Pennsylvania.svg.png 2x\" width=\"100\"/>\n",
      "       </a>\n",
      "       <div style=\"padding:0.2em 0 0.2em 0;\">\n",
      "        <a href=\"/wiki/Seal_of_Pennsylvania\" title=\"Seal of Pennsylvania\">\n",
      "         Seal\n",
      "        </a>\n",
      "       </div>\n",
      "      </div>\n",
      "     </div>\n",
      "    </div>\n",
      "   </td>\n",
      "  </tr>\n",
      "  <tr class=\"mergedtoprow\">\n",
      "   <td colspan=\"2\" style=\"text-align:center\">\n",
      "    <a class=\"mw-redirect\" href=\"/wiki/List_of_U.S._state_nicknames\" title=\"List of U.S. state nicknames\">\n",
      "     Nickname(s):\n",
      "    </a>\n",
      "    <div class=\"nickname\" style=\"display:inline\">\n",
      "     Keystone State;\n",
      "     <sup class=\"reference\" id=\"cite_ref-1\">\n",
      "      <a href=\"#cite_note-1\">\n",
      "       [1]\n",
      "      </a>\n",
      "     </sup>\n",
      "     Quaker State\n",
      "    </div>\n",
      "   </td>\n",
      "  </tr>\n",
      "  <tr class=\"mergedrow\">\n",
      "   <td colspan=\"2\" style=\"text-align:center\">\n",
      "    <a href=\"/wiki/List_of_U.S._state_and_territory_mottos\" title=\"List of U.S. state and territory mottos\">\n",
      "     Motto(s):\n",
      "    </a>\n",
      "    <div class=\"nickname\" style=\"display:inline\">\n",
      "     Virtue, Liberty and Independence\n",
      "    </div>\n",
      "   </td>\n",
      "  </tr>\n",
      "  <tr class=\"mergedrow\">\n",
      "   <td colspan=\"2\" style=\"text-align:center\">\n",
      "    <a href=\"/wiki/List_of_U.S._state_songs\" title=\"List of U.S. state songs\">\n",
      "     Anthem:\n",
      "    </a>\n",
      "    \"\n",
      "    <a href=\"/wiki/Pennsylvania_(song)\" title=\"Pennsylvania (song)\">\n",
      "     Pennsylvania\n",
      "    </a>\n",
      "    \"\n",
      "    <br/>\n",
      "    <div class=\"center\">\n",
      "     <div class=\"floatnone\">\n",
      "      <div class=\"mediaContainer\" style=\"width:220px\">\n",
      "       <audio class=\"kskin\" controls=\"\" data-durationhint=\"75.359614512472\" data-mwprovider=\"wikimediacommons\" data-mwtitle='\"Pennsylvania\"_-_Regional_anthem_of_Pennsylvania.ogg' data-startoffset=\"0\" id=\"mwe_player_0\" preload=\"none\" style=\"width:220px\">\n",
      "        <source data-bandwidth=\"210704\" data-height=\"0\" data-shorttitle=\"MP3\" data-title=\"MP3\" data-transcodekey=\"mp3\" data-width=\"0\" src=\"//upload.wikimedia.org/wikipedia/commons/transcoded/9/9c/%22Pennsylvania%22_-_Regional_anthem_of_Pennsylvania.ogg/%22Pennsylvania%22_-_Regional_anthem_of_Pennsylvania.ogg.mp3\" type=\"audio/mpeg\"/>\n",
      "        <source data-bandwidth=\"348997\" data-height=\"0\" data-shorttitle=\"Ogg source\" data-title=\"Original Ogg file (349 kbps)\" data-width=\"0\" src=\"//upload.wikimedia.org/wikipedia/commons/9/9c/%22Pennsylvania%22_-_Regional_anthem_of_Pennsylvania.ogg\" type='audio/ogg; codecs=\"vorbis\"'/>\n",
      "       </audio>\n",
      "      </div>\n",
      "     </div>\n",
      "    </div>\n",
      "   </td>\n",
      "  </tr>\n",
      "  <tr class=\"mergedtoprow\">\n",
      "   <td colspan=\"2\" style=\"text-align:center\">\n",
      "    <a class=\"image\" href=\"/wiki/File:Pennsylvania_in_United_States.svg\" title=\"Map of the United States with Pennsylvania highlighted\">\n",
      "     <img alt=\"Map of the United States with Pennsylvania highlighted\" data-file-height=\"731\" data-file-width=\"1181\" decoding=\"async\" height=\"186\" src=\"//upload.wikimedia.org/wikipedia/commons/thumb/6/6d/Pennsylvania_in_United_States.svg/300px-Pennsylvania_in_United_States.svg.png\" srcset=\"//upload.wikimedia.org/wikipedia/commons/thumb/6/6d/Pennsylvania_in_United_States.svg/450px-Pennsylvania_in_United_States.svg.png 1.5x, //upload.wikimedia.org/wikipedia/commons/thumb/6/6d/Pennsylvania_in_United_States.svg/600px-Pennsylvania_in_United_States.svg.png 2x\" width=\"300\"/>\n",
      "    </a>\n",
      "    <div style=\"padding:0.3em 0 0 0;\">\n",
      "     Map of the United States with Pennsylvania highlighted\n",
      "    </div>\n",
      "   </td>\n",
      "  </tr>\n",
      "  <tr class=\"mergedtoprow\">\n",
      "   <th scope=\"row\">\n",
      "    Country\n",
      "   </th>\n",
      "   <td>\n",
      "    <a href=\"/wiki/United_States\" title=\"United States\">\n",
      "     United States\n",
      "    </a>\n",
      "   </td>\n",
      "  </tr>\n",
      "  <tr class=\"mergedrow\">\n",
      "   <th scope=\"row\">\n",
      "    Before statehood\n",
      "   </th>\n",
      "   <td>\n",
      "    <a href=\"/wiki/Province_of_Pennsylvania\" title=\"Province of Pennsylvania\">\n",
      "     Province of Pennsylvania\n",
      "    </a>\n",
      "   </td>\n",
      "  </tr>\n",
      "  <tr class=\"mergedrow\">\n",
      "   <th scope=\"row\">\n",
      "    <a href=\"/wiki/List_of_U.S._states_by_date_of_admission_to_the_Union#List_of_U.S._states\" title=\"List of U.S. states by date of admission to the Union\">\n",
      "     Admitted to the Union\n",
      "    </a>\n",
      "   </th>\n",
      "   <td>\n",
      "    December 12, 1787 (2nd)\n",
      "   </td>\n",
      "  </tr>\n",
      "  <tr class=\"mergedtoprow\">\n",
      "   <th scope=\"row\">\n",
      "    <a href=\"/wiki/List_of_capitals_in_the_United_States\" title=\"List of capitals in the United States\">\n",
      "     Capital\n",
      "    </a>\n",
      "   </th>\n",
      "   <td>\n",
      "    <a href=\"/wiki/Harrisburg,_Pennsylvania\" title=\"Harrisburg, Pennsylvania\">\n",
      "     Harrisburg\n",
      "    </a>\n",
      "   </td>\n",
      "  </tr>\n",
      "  <tr class=\"mergedrow\">\n",
      "   <th scope=\"row\">\n",
      "    <a class=\"mw-redirect\" href=\"/wiki/List_of_U.S._states%27_largest_cities_by_population\" title=\"List of U.S. states' largest cities by population\">\n",
      "     Largest city\n",
      "    </a>\n",
      "   </th>\n",
      "   <td>\n",
      "    <a href=\"/wiki/Philadelphia\" title=\"Philadelphia\">\n",
      "     Philadelphia\n",
      "    </a>\n",
      "   </td>\n",
      "  </tr>\n",
      "  <tr class=\"mergedrow\">\n",
      "   <th scope=\"row\">\n",
      "    <a class=\"mw-redirect\" href=\"/wiki/List_of_Metropolitan_Statistical_Areas\" title=\"List of Metropolitan Statistical Areas\">\n",
      "     Largest metro\n",
      "    </a>\n",
      "   </th>\n",
      "   <td>\n",
      "    <a href=\"/wiki/Delaware_Valley\" title=\"Delaware Valley\">\n",
      "     Delaware Valley\n",
      "    </a>\n",
      "   </td>\n",
      "  </tr>\n",
      "  <tr class=\"mergedtoprow\">\n",
      "   <th colspan=\"2\" style=\"text-align:center;text-align:left\">\n",
      "    Government\n",
      "    <div style=\"font-weight:normal;display:inline;\">\n",
      "    </div>\n",
      "   </th>\n",
      "  </tr>\n",
      "  <tr class=\"mergedrow\">\n",
      "   <th scope=\"row\">\n",
      "    •\n",
      "    <a class=\"mw-redirect\" href=\"/wiki/Governor_of_Pennsylvania\" title=\"Governor of Pennsylvania\">\n",
      "     Governor\n",
      "    </a>\n",
      "   </th>\n",
      "   <td>\n",
      "    <span class=\"nowrap\">\n",
      "     <a href=\"/wiki/Tom_Wolf\" title=\"Tom Wolf\">\n",
      "      Tom Wolf\n",
      "     </a>\n",
      "     (\n",
      "     <a href=\"/wiki/Democratic_Party_(United_States)\" title=\"Democratic Party (United States)\">\n",
      "      D\n",
      "     </a>\n",
      "     )\n",
      "    </span>\n",
      "   </td>\n",
      "  </tr>\n",
      "  <tr class=\"mergedrow\">\n",
      "   <th scope=\"row\">\n",
      "    •\n",
      "    <a href=\"/wiki/Lieutenant_Governor_of_Pennsylvania\" title=\"Lieutenant Governor of Pennsylvania\">\n",
      "     Lieutenant Governor\n",
      "    </a>\n",
      "   </th>\n",
      "   <td>\n",
      "    <span class=\"nowrap\">\n",
      "     <a href=\"/wiki/John_Fetterman_(politician)\" title=\"John Fetterman (politician)\">\n",
      "      John Fetterman\n",
      "     </a>\n",
      "     (D)\n",
      "    </span>\n",
      "   </td>\n",
      "  </tr>\n",
      "  <tr class=\"mergedrow\">\n",
      "   <th scope=\"row\">\n",
      "    <a href=\"/wiki/Legislature\" title=\"Legislature\">\n",
      "     Legislature\n",
      "    </a>\n",
      "   </th>\n",
      "   <td>\n",
      "    <span class=\"nowrap\">\n",
      "     <a href=\"/wiki/Pennsylvania_General_Assembly\" title=\"Pennsylvania General Assembly\">\n",
      "      General Assembly\n",
      "     </a>\n",
      "    </span>\n",
      "   </td>\n",
      "  </tr>\n",
      "  <tr class=\"mergedrow\">\n",
      "   <th scope=\"row\">\n",
      "    •\n",
      "    <a href=\"/wiki/Upper_house\" title=\"Upper house\">\n",
      "     Upper house\n",
      "    </a>\n",
      "   </th>\n",
      "   <td>\n",
      "    <a href=\"/wiki/Pennsylvania_State_Senate\" title=\"Pennsylvania State Senate\">\n",
      "     State Senate\n",
      "    </a>\n",
      "   </td>\n",
      "  </tr>\n",
      "  <tr class=\"mergedrow\">\n",
      "   <th scope=\"row\">\n",
      "    •\n",
      "    <a href=\"/wiki/Lower_house\" title=\"Lower house\">\n",
      "     Lower house\n",
      "    </a>\n",
      "   </th>\n",
      "   <td>\n",
      "    <a href=\"/wiki/Pennsylvania_House_of_Representatives\" title=\"Pennsylvania House of Representatives\">\n",
      "     House of Representatives\n",
      "    </a>\n",
      "   </td>\n",
      "  </tr>\n",
      "  <tr class=\"mergedrow\">\n",
      "   <th scope=\"row\">\n",
      "    <a href=\"/wiki/Judiciary\" title=\"Judiciary\">\n",
      "     Judiciary\n",
      "    </a>\n",
      "   </th>\n",
      "   <td>\n",
      "    <a href=\"/wiki/Supreme_Court_of_Pennsylvania\" title=\"Supreme Court of Pennsylvania\">\n",
      "     Supreme Court of Pennsylvania\n",
      "    </a>\n",
      "   </td>\n",
      "  </tr>\n",
      "  <tr class=\"mergedrow\">\n",
      "   <th scope=\"row\">\n",
      "    <a href=\"/wiki/List_of_United_States_senators_from_Pennsylvania\" title=\"List of United States senators from Pennsylvania\">\n",
      "     U.S. senators\n",
      "    </a>\n",
      "   </th>\n",
      "   <td>\n",
      "    <span class=\"nowrap\">\n",
      "     <a href=\"/wiki/Bob_Casey_Jr.\" title=\"Bob Casey Jr.\">\n",
      "      Bob Casey Jr.\n",
      "     </a>\n",
      "     (D)\n",
      "    </span>\n",
      "    <br/>\n",
      "    <span class=\"nowrap\">\n",
      "     <a href=\"/wiki/Pat_Toomey\" title=\"Pat Toomey\">\n",
      "      Pat Toomey\n",
      "     </a>\n",
      "     (\n",
      "     <a href=\"/wiki/Republican_Party_(United_States)\" title=\"Republican Party (United States)\">\n",
      "      R\n",
      "     </a>\n",
      "     )\n",
      "    </span>\n",
      "   </td>\n",
      "  </tr>\n",
      "  <tr class=\"mergedrow\">\n",
      "   <th scope=\"row\">\n",
      "    <a href=\"/wiki/United_States_House_of_Representatives\" title=\"United States House of Representatives\">\n",
      "     U.S. House delegation\n",
      "    </a>\n",
      "   </th>\n",
      "   <td>\n",
      "    9 Democrats\n",
      "    <br/>\n",
      "    9 Republicans (\n",
      "    <a href=\"/wiki/United_States_congressional_delegations_from_Pennsylvania\" title=\"United States congressional delegations from Pennsylvania\">\n",
      "     list\n",
      "    </a>\n",
      "    )\n",
      "   </td>\n",
      "  </tr>\n",
      "  <tr class=\"mergedtoprow\">\n",
      "   <th colspan=\"2\" style=\"text-align:center;text-align:left\">\n",
      "    Area\n",
      "    <div style=\"font-weight:normal;display:inline;\">\n",
      "    </div>\n",
      "   </th>\n",
      "  </tr>\n",
      "  <tr class=\"mergedrow\">\n",
      "   <th scope=\"row\">\n",
      "    • Total\n",
      "   </th>\n",
      "   <td>\n",
      "    46,055 sq mi (119,283 km\n",
      "    <sup>\n",
      "     2\n",
      "    </sup>\n",
      "    )\n",
      "   </td>\n",
      "  </tr>\n",
      "  <tr class=\"mergedrow\">\n",
      "   <th scope=\"row\">\n",
      "    • Land\n",
      "   </th>\n",
      "   <td>\n",
      "    44,816.61 sq mi (116,074 km\n",
      "    <sup>\n",
      "     2\n",
      "    </sup>\n",
      "    )\n",
      "   </td>\n",
      "  </tr>\n",
      "  <tr class=\"mergedrow\">\n",
      "   <th scope=\"row\">\n",
      "    • Water\n",
      "   </th>\n",
      "   <td>\n",
      "    1,239 sq mi (3,208 km\n",
      "    <sup>\n",
      "     2\n",
      "    </sup>\n",
      "    )  2.7%\n",
      "   </td>\n",
      "  </tr>\n",
      "  <tr class=\"mergedrow\">\n",
      "   <th scope=\"row\">\n",
      "    Area rank\n",
      "   </th>\n",
      "   <td>\n",
      "    <a href=\"/wiki/List_of_U.S._states_and_territories_by_area\" title=\"List of U.S. states and territories by area\">\n",
      "     33rd\n",
      "    </a>\n",
      "   </td>\n",
      "  </tr>\n",
      "  <tr class=\"mergedtoprow\">\n",
      "   <th colspan=\"2\" style=\"text-align:center;text-align:left\">\n",
      "    Dimensions\n",
      "    <div style=\"font-weight:normal;display:inline;\">\n",
      "    </div>\n",
      "   </th>\n",
      "  </tr>\n",
      "  <tr class=\"mergedrow\">\n",
      "   <th scope=\"row\">\n",
      "    • Length\n",
      "   </th>\n",
      "   <td>\n",
      "    170 mi (273 km)\n",
      "   </td>\n",
      "  </tr>\n",
      "  <tr class=\"mergedrow\">\n",
      "   <th scope=\"row\">\n",
      "    • Width\n",
      "   </th>\n",
      "   <td>\n",
      "    283 mi (455 km)\n",
      "   </td>\n",
      "  </tr>\n",
      "  <tr class=\"mergedtoprow\">\n",
      "   <th scope=\"row\">\n",
      "    Elevation\n",
      "    <div style=\"font-weight:normal;display:inline;\">\n",
      "    </div>\n",
      "   </th>\n",
      "   <td>\n",
      "    1,100 ft (340 m)\n",
      "   </td>\n",
      "  </tr>\n",
      "  <tr class=\"mergedrow\">\n",
      "   <th scope=\"row\">\n",
      "    Highest elevation\n",
      "    <div style=\"font-weight:normal;display:inline;\">\n",
      "     (\n",
      "     <a href=\"/wiki/Mount_Davis_(Pennsylvania)\" title=\"Mount Davis (Pennsylvania)\">\n",
      "      Mount Davis\n",
      "     </a>\n",
      "     <sup class=\"reference\" id=\"cite_ref-USGS_2-0\">\n",
      "      <a href=\"#cite_note-USGS-2\">\n",
      "       [2]\n",
      "      </a>\n",
      "     </sup>\n",
      "     <sup class=\"reference\" id=\"cite_ref-AVD88_3-0\">\n",
      "      <a href=\"#cite_note-AVD88-3\">\n",
      "       [3]\n",
      "      </a>\n",
      "     </sup>\n",
      "     )\n",
      "    </div>\n",
      "   </th>\n",
      "   <td>\n",
      "    3,213 ft (979 m)\n",
      "   </td>\n",
      "  </tr>\n",
      "  <tr class=\"mergedbottomrow\">\n",
      "   <th scope=\"row\">\n",
      "    Lowest elevation\n",
      "    <div style=\"font-weight:normal;display:inline;\">\n",
      "     (\n",
      "     <a href=\"/wiki/Delaware_River\" title=\"Delaware River\">\n",
      "      Delaware River\n",
      "     </a>\n",
      "     at\n",
      "     <span class=\"nowrap\">\n",
      "      <a href=\"/wiki/Delaware\" title=\"Delaware\">\n",
      "       Delaware\n",
      "      </a>\n",
      "      border\n",
      "     </span>\n",
      "     <sup class=\"reference\" id=\"cite_ref-USGS_2-1\">\n",
      "      <a href=\"#cite_note-USGS-2\">\n",
      "       [2]\n",
      "      </a>\n",
      "     </sup>\n",
      "     )\n",
      "    </div>\n",
      "   </th>\n",
      "   <td>\n",
      "    0 ft (0 m)\n",
      "   </td>\n",
      "  </tr>\n",
      "  <tr class=\"mergedtoprow\">\n",
      "   <th colspan=\"2\" style=\"text-align:center;text-align:left\">\n",
      "    Population\n",
      "    <div style=\"font-weight:normal;display:inline;\">\n",
      "     <span class=\"nowrap\">\n",
      "     </span>\n",
      "     (2019)\n",
      "    </div>\n",
      "   </th>\n",
      "  </tr>\n",
      "  <tr class=\"mergedrow\">\n",
      "   <th scope=\"row\">\n",
      "    • Total\n",
      "   </th>\n",
      "   <td>\n",
      "    12,801,989\n",
      "   </td>\n",
      "  </tr>\n",
      "  <tr class=\"mergedrow\">\n",
      "   <th scope=\"row\">\n",
      "    • Rank\n",
      "   </th>\n",
      "   <td>\n",
      "    <a href=\"/wiki/List_of_states_and_territories_of_the_United_States_by_population\" title=\"List of states and territories of the United States by population\">\n",
      "     5th\n",
      "    </a>\n",
      "   </td>\n",
      "  </tr>\n",
      "  <tr class=\"mergedrow\">\n",
      "   <th scope=\"row\">\n",
      "    • Density\n",
      "   </th>\n",
      "   <td>\n",
      "    284/sq mi (110/km\n",
      "    <sup>\n",
      "     2\n",
      "    </sup>\n",
      "    )\n",
      "   </td>\n",
      "  </tr>\n",
      "  <tr class=\"mergedrow\">\n",
      "   <th scope=\"row\">\n",
      "    • Density rank\n",
      "   </th>\n",
      "   <td>\n",
      "    <a href=\"/wiki/List_of_states_and_territories_of_the_United_States_by_population_density\" title=\"List of states and territories of the United States by population density\">\n",
      "     9th\n",
      "    </a>\n",
      "   </td>\n",
      "  </tr>\n",
      "  <tr class=\"mergedrow\">\n",
      "   <th scope=\"row\">\n",
      "    •\n",
      "    <a href=\"/wiki/Household_income_in_the_United_States#Income_by_state\" title=\"Household income in the United States\">\n",
      "     Median household income\n",
      "    </a>\n",
      "    <div style=\"font-weight:normal;display:inline;\">\n",
      "    </div>\n",
      "   </th>\n",
      "   <td>\n",
      "    $59,195\n",
      "    <sup class=\"reference\" id=\"cite_ref-4\">\n",
      "     <a href=\"#cite_note-4\">\n",
      "      [4]\n",
      "     </a>\n",
      "    </sup>\n",
      "   </td>\n",
      "  </tr>\n",
      "  <tr class=\"mergedrow\">\n",
      "   <th scope=\"row\">\n",
      "    • Income rank\n",
      "    <div style=\"font-weight:normal;display:inline;\">\n",
      "    </div>\n",
      "   </th>\n",
      "   <td>\n",
      "    25th\n",
      "   </td>\n",
      "  </tr>\n",
      "  <tr class=\"mergedtoprow\">\n",
      "   <th scope=\"row\">\n",
      "    <a href=\"/wiki/Demonym\" title=\"Demonym\">\n",
      "     Demonym(s)\n",
      "    </a>\n",
      "   </th>\n",
      "   <td>\n",
      "    Pennsylvanian\n",
      "   </td>\n",
      "  </tr>\n",
      "  <tr class=\"mergedtoprow\">\n",
      "   <th colspan=\"2\" style=\"text-align:center;text-align:left\">\n",
      "    Language\n",
      "    <div style=\"font-weight:normal;display:inline;\">\n",
      "    </div>\n",
      "   </th>\n",
      "  </tr>\n",
      "  <tr class=\"mergedrow\">\n",
      "   <th scope=\"row\">\n",
      "    •\n",
      "    <a href=\"/wiki/Languages_of_the_United_States\" title=\"Languages of the United States\">\n",
      "     Official language\n",
      "    </a>\n",
      "   </th>\n",
      "   <td>\n",
      "    None\n",
      "   </td>\n",
      "  </tr>\n",
      "  <tr class=\"mergedrow\">\n",
      "   <th scope=\"row\">\n",
      "    •\n",
      "    <a href=\"/wiki/Languages_of_the_United_States\" title=\"Languages of the United States\">\n",
      "     Spoken language\n",
      "    </a>\n",
      "   </th>\n",
      "   <td>\n",
      "    <a href=\"/wiki/English_language\" title=\"English language\">\n",
      "     English\n",
      "    </a>\n",
      "    90.15%\n",
      "    <br/>\n",
      "    <a href=\"/wiki/Spanish_language\" title=\"Spanish language\">\n",
      "     Spanish\n",
      "    </a>\n",
      "    4.09%\n",
      "    <br/>\n",
      "    <a href=\"/wiki/German_language\" title=\"German language\">\n",
      "     German\n",
      "    </a>\n",
      "    (Including\n",
      "    <a href=\"/wiki/Pennsylvania_German_language\" title=\"Pennsylvania German language\">\n",
      "     Pennsylvania German\n",
      "    </a>\n",
      "    ) 0.87%\n",
      "    <br/>\n",
      "    <a href=\"/wiki/Chinese_language\" title=\"Chinese language\">\n",
      "     Chinese\n",
      "    </a>\n",
      "    0.47%\n",
      "    <br/>\n",
      "    <a href=\"/wiki/Italian_language\" title=\"Italian language\">\n",
      "     Italian\n",
      "    </a>\n",
      "    0.43%\n",
      "    <sup class=\"reference\" id=\"cite_ref-5\">\n",
      "     <a href=\"#cite_note-5\">\n",
      "      [5]\n",
      "     </a>\n",
      "    </sup>\n",
      "   </td>\n",
      "  </tr>\n",
      "  <tr class=\"mergedtoprow\">\n",
      "   <th scope=\"row\">\n",
      "    <a href=\"/wiki/Time_zone\" title=\"Time zone\">\n",
      "     Time zone\n",
      "    </a>\n",
      "   </th>\n",
      "   <td>\n",
      "    <a href=\"/wiki/UTC%E2%88%9205:00\" title=\"UTC−05:00\">\n",
      "     UTC−05:00\n",
      "    </a>\n",
      "    (\n",
      "    <a href=\"/wiki/Eastern_Time_Zone\" title=\"Eastern Time Zone\">\n",
      "     Eastern\n",
      "    </a>\n",
      "    )\n",
      "   </td>\n",
      "  </tr>\n",
      "  <tr class=\"mergedrow\">\n",
      "   <th scope=\"row\">\n",
      "    <span style=\"white-space:nowrap\">\n",
      "     • Summer (\n",
      "     <a href=\"/wiki/Daylight_saving_time\" title=\"Daylight saving time\">\n",
      "      DST\n",
      "     </a>\n",
      "     )\n",
      "    </span>\n",
      "   </th>\n",
      "   <td>\n",
      "    <a href=\"/wiki/UTC%E2%88%9204:00\" title=\"UTC−04:00\">\n",
      "     UTC−04:00\n",
      "    </a>\n",
      "    (\n",
      "    <a class=\"mw-redirect\" href=\"/wiki/Eastern_Daylight_Time\" title=\"Eastern Daylight Time\">\n",
      "     EDT\n",
      "    </a>\n",
      "    )\n",
      "   </td>\n",
      "  </tr>\n",
      "  <tr class=\"mergedtoprow\">\n",
      "   <th scope=\"row\">\n",
      "    <a class=\"mw-redirect\" href=\"/wiki/List_of_U.S._state_abbreviations#Postal_codes\" title=\"List of U.S. state abbreviations\">\n",
      "     USPS abbreviation\n",
      "    </a>\n",
      "   </th>\n",
      "   <td class=\"adr\">\n",
      "    <div class=\"postal-code\">\n",
      "     PA\n",
      "    </div>\n",
      "   </td>\n",
      "  </tr>\n",
      "  <tr class=\"mergedrow\">\n",
      "   <th scope=\"row\">\n",
      "    <a href=\"/wiki/ISO_3166\" title=\"ISO 3166\">\n",
      "     ISO 3166 code\n",
      "    </a>\n",
      "   </th>\n",
      "   <td class=\"nickname\">\n",
      "    <a href=\"/wiki/ISO_3166-2:US\" title=\"ISO 3166-2:US\">\n",
      "     US-PA\n",
      "    </a>\n",
      "   </td>\n",
      "  </tr>\n",
      "  <tr>\n",
      "   <th scope=\"row\">\n",
      "    <a class=\"mw-redirect\" href=\"/wiki/List_of_U.S._state_abbreviations#Current_use_of_traditional_abbreviations\" title=\"List of U.S. state abbreviations\">\n",
      "     Trad. abbreviation\n",
      "    </a>\n",
      "   </th>\n",
      "   <td class=\"nickname\">\n",
      "    Pa., Penn., Penna.\n",
      "   </td>\n",
      "  </tr>\n",
      "  <tr class=\"mergedtoprow\">\n",
      "   <th scope=\"row\">\n",
      "    Latitude\n",
      "   </th>\n",
      "   <td>\n",
      "    39°43′ to 42°16′ N\n",
      "   </td>\n",
      "  </tr>\n",
      "  <tr class=\"mergedrow\">\n",
      "   <th scope=\"row\">\n",
      "    Longitude\n",
      "   </th>\n",
      "   <td>\n",
      "    74°41′ to 80°31′ W\n",
      "   </td>\n",
      "  </tr>\n",
      "  <tr class=\"mergedtoprow\">\n",
      "   <th scope=\"row\">\n",
      "    Website\n",
      "   </th>\n",
      "   <td>\n",
      "    <span class=\"url\">\n",
      "     <a class=\"external text\" href=\"https://www.pa.gov/\" rel=\"nofollow\">\n",
      "      www\n",
      "      <wbr/>\n",
      "      .pa\n",
      "      <wbr/>\n",
      "      .gov\n",
      "     </a>\n",
      "    </span>\n",
      "   </td>\n",
      "  </tr>\n",
      " </tbody>\n",
      "</table>\n",
      "\n"
     ]
    }
   ],
   "source": [
    "print(soup.find('table').prettify())"
   ]
  },
  {
   "cell_type": "code",
   "execution_count": 30,
   "metadata": {},
   "outputs": [],
   "source": [
    "first_table = soup.find('table')"
   ]
  },
  {
   "cell_type": "code",
   "execution_count": 31,
   "metadata": {},
   "outputs": [
    {
     "data": {
      "text/plain": [
       "bs4.element.Tag"
      ]
     },
     "execution_count": 31,
     "metadata": {},
     "output_type": "execute_result"
    }
   ],
   "source": [
    "type(first_table)"
   ]
  },
  {
   "cell_type": "code",
   "execution_count": 32,
   "metadata": {},
   "outputs": [
    {
     "data": {
      "text/plain": [
       "'Pennsylvania'"
      ]
     },
     "execution_count": 32,
     "metadata": {},
     "output_type": "execute_result"
    }
   ],
   "source": [
    "# find first table header \n",
    "first_table.find('th').text"
   ]
  },
  {
   "cell_type": "code",
   "execution_count": 33,
   "metadata": {},
   "outputs": [
    {
     "data": {
      "text/plain": [
       "'State'"
      ]
     },
     "execution_count": 33,
     "metadata": {},
     "output_type": "execute_result"
    }
   ],
   "source": [
    "# find first table data\n",
    "first_table.find('td').text"
   ]
  },
  {
   "cell_type": "code",
   "execution_count": 34,
   "metadata": {},
   "outputs": [
    {
     "data": {
      "text/plain": [
       "'Pennsylvania'"
      ]
     },
     "execution_count": 34,
     "metadata": {},
     "output_type": "execute_result"
    }
   ],
   "source": [
    "# find first table row\n",
    "first_table.find('tr').text"
   ]
  },
  {
   "cell_type": "markdown",
   "metadata": {},
   "source": [
    "Chaining methods and saving data in Python variables"
   ]
  },
  {
   "cell_type": "code",
   "execution_count": 35,
   "metadata": {},
   "outputs": [
    {
     "data": {
      "text/plain": [
       "'Pennsylvania'"
      ]
     },
     "execution_count": 35,
     "metadata": {},
     "output_type": "execute_result"
    }
   ],
   "source": [
    "state = soup.find('table').find('th').text\n",
    "state"
   ]
  },
  {
   "cell_type": "code",
   "execution_count": 36,
   "metadata": {},
   "outputs": [
    {
     "name": "stdout",
     "output_type": "stream",
     "text": [
      "Pennsylvania\n",
      "State\n",
      "Commonwealth of Pennsylvania\n",
      "\n",
      "FlagSeal\n",
      "Nickname(s): Keystone State;[1] Quaker State\n",
      "Motto(s): Virtue, Liberty and Independence\n",
      "Anthem: \"Pennsylvania\"\n",
      "Map of the United States with Pennsylvania highlighted\n",
      "CountryUnited States\n",
      "Before statehoodProvince of Pennsylvania\n"
     ]
    }
   ],
   "source": [
    "for row in soup.find('table').find_all('tr')[:10]:\n",
    "    print(row.text)    "
   ]
  },
  {
   "cell_type": "markdown",
   "metadata": {},
   "source": [
    "#### Locating information by position"
   ]
  },
  {
   "cell_type": "code",
   "execution_count": 39,
   "metadata": {},
   "outputs": [],
   "source": [
    "soup.find(text='Admitted') # nothing comes out, text search should be exact match"
   ]
  },
  {
   "cell_type": "code",
   "execution_count": 40,
   "metadata": {},
   "outputs": [
    {
     "data": {
      "text/plain": [
       "'Admitted to the Union'"
      ]
     },
     "execution_count": 40,
     "metadata": {},
     "output_type": "execute_result"
    }
   ],
   "source": [
    "soup.find(text='Admitted to the Union')"
   ]
  },
  {
   "cell_type": "markdown",
   "metadata": {},
   "source": [
    "Alternatively, we could use RegularExpression"
   ]
  },
  {
   "cell_type": "code",
   "execution_count": 41,
   "metadata": {},
   "outputs": [
    {
     "data": {
      "text/plain": [
       "'Admitted to the Union'"
      ]
     },
     "execution_count": 41,
     "metadata": {},
     "output_type": "execute_result"
    }
   ],
   "source": [
    "import re\n",
    "admitted_regex = re.compile('Admitted')\n",
    "soup.find(text=admitted_regex)"
   ]
  },
  {
   "cell_type": "code",
   "execution_count": 42,
   "metadata": {},
   "outputs": [
    {
     "data": {
      "text/plain": [
       "bs4.element.NavigableString"
      ]
     },
     "execution_count": 42,
     "metadata": {},
     "output_type": "execute_result"
    }
   ],
   "source": [
    "admitted = soup.find(text=admitted_regex)\n",
    "type(admitted) # because it is a BeautifulSoup element, we can navigate the DOM"
   ]
  },
  {
   "cell_type": "code",
   "execution_count": 44,
   "metadata": {},
   "outputs": [
    {
     "data": {
      "text/plain": [
       "<td>December 12, 1787 (2nd)</td>"
      ]
     },
     "execution_count": 44,
     "metadata": {},
     "output_type": "execute_result"
    }
   ],
   "source": [
    "admitted.next"
   ]
  },
  {
   "cell_type": "code",
   "execution_count": 45,
   "metadata": {},
   "outputs": [
    {
     "data": {
      "text/plain": [
       "'December 12, 1787 (2nd)'"
      ]
     },
     "execution_count": 45,
     "metadata": {},
     "output_type": "execute_result"
    }
   ],
   "source": [
    "admitted.next.next"
   ]
  },
  {
   "cell_type": "code",
   "execution_count": null,
   "metadata": {},
   "outputs": [],
   "source": []
  }
 ],
 "metadata": {
  "kernelspec": {
   "display_name": "Python 3",
   "language": "python",
   "name": "python3"
  },
  "language_info": {
   "codemirror_mode": {
    "name": "ipython",
    "version": 3
   },
   "file_extension": ".py",
   "mimetype": "text/x-python",
   "name": "python",
   "nbconvert_exporter": "python",
   "pygments_lexer": "ipython3",
   "version": "3.8.3"
  }
 },
 "nbformat": 4,
 "nbformat_minor": 4
}
